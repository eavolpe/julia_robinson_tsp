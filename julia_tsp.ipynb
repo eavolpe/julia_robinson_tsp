{
 "cells": [
  {
   "cell_type": "code",
   "execution_count": 2,
   "metadata": {},
   "outputs": [],
   "source": [
    "import numpy as np\n",
    "inf = float('inf')\n"
   ]
  },
  {
   "cell_type": "code",
   "execution_count": 26,
   "metadata": {},
   "outputs": [
    {
     "data": {
      "text/plain": [
       "matrix([[ 0,  5,  2,  4,  0,  2],\n",
       "        [ 0,  0,  2,  4,  0,  0],\n",
       "        [-1, -1,  0,  2, -1, -1],\n",
       "        [-2, -2, -1,  0, -2, -2],\n",
       "        [ 1,  1,  2,  4,  0,  1],\n",
       "        [ 2,  2,  3,  4,  2,  0]])"
      ]
     },
     "execution_count": 26,
     "metadata": {},
     "output_type": "execute_result"
    }
   ],
   "source": [
    "matriz2 = np.matrix([[0,5,2,4,0,2],[0,0,2,4,0,0],[-1,-1,0,2,-1,-1],[-2,-2,-1,0,-2,-2],[1,1,2,4,0,1],[2,2,3,4,2,0]])\n",
    "\n",
    "matriz2"
   ]
  },
  {
   "cell_type": "code",
   "execution_count": 21,
   "metadata": {},
   "outputs": [],
   "source": [
    "def next_dic(ciclos):\n",
    "    r = {}\n",
    "    for i in ciclos:\n",
    "        r[i[0]] = i[1] \n",
    "    return r"
   ]
  },
  {
   "cell_type": "code",
   "execution_count": 82,
   "metadata": {},
   "outputs": [],
   "source": [
    "ciclo_viejo = ['01','14','42','20','35','53']\n",
    "ciclo_nuevo = '345123'\n"
   ]
  },
  {
   "cell_type": "code",
   "execution_count": 84,
   "metadata": {},
   "outputs": [
    {
     "data": {
      "text/plain": [
       "['01', '45', '52', '13', '24', '30']"
      ]
     },
     "execution_count": 84,
     "metadata": {},
     "output_type": "execute_result"
    }
   ],
   "source": [
    "def update_ciclo(ciclo_viejo,ciclo_nuevo):\n",
    "    viejos_dic = next_dic(ciclo_viejo)\n",
    "    for i in ciclo_nuevo[:-1]:\n",
    "        ciclo_viejo.remove(i+viejos_dic[i])\n",
    "    c = ciclo_nuevo[0]\n",
    "    for i in ciclo_nuevo[1:]:\n",
    "        ciclo_viejo.append(i+viejos_dic[c])\n",
    "        c = i\n",
    "    return ciclo_viejo\n",
    "update_ciclo(ciclo_viejo,ciclo_nuevo)"
   ]
  },
  {
   "cell_type": "code",
   "execution_count": 54,
   "metadata": {},
   "outputs": [],
   "source": [
    "matriz_d = np.matrix([[0,1,4,2,8,7],[6,0,5,2,1,9],[4,8,0,7,2,6],[5,5,5,0,4,8],[6,1,5,7,0,4],[3,9,1,2,6,0]])\n"
   ]
  },
  {
   "cell_type": "code",
   "execution_count": 59,
   "metadata": {},
   "outputs": [],
   "source": [
    "a = ['01','14','42','20','35','53']"
   ]
  },
  {
   "cell_type": "code",
   "execution_count": 114,
   "metadata": {},
   "outputs": [
    {
     "data": {
      "text/plain": [
       "['14', '20', '35', '53', '41', '02']"
      ]
     },
     "execution_count": 114,
     "metadata": {},
     "output_type": "execute_result"
    }
   ],
   "source": [
    "update_ciclo(a,'040')"
   ]
  },
  {
   "cell_type": "code",
   "execution_count": 92,
   "metadata": {},
   "outputs": [],
   "source": [
    "def s_matrix(ciclos,distance_matrix):\n",
    "    n = next_dic(ciclos)\n",
    "    numero_puntos = len(distance_matrix)\n",
    "    m = np.zeros((len(distance_matrix),len(distance_matrix)))\n",
    "    total_coordenadas = [(i,j) for i in range(numero_puntos) for j in range(numero_puntos)]\n",
    "    for i in ciclos:\n",
    "        total_coordenadas.remove((int(i[0]),int(i[1])))\n",
    "        m[int(i[0]),int(i[1])] = inf\n",
    "    for k in total_coordenadas:\n",
    "        m[k[0],k[1]] = distance_matrix[k[1],int(n[str(k[0])])]-distance_matrix[k[0],int(n[str(k[0])])]\n",
    "    return m\n",
    "        "
   ]
  },
  {
   "cell_type": "code",
   "execution_count": 130,
   "metadata": {},
   "outputs": [],
   "source": [
    "import numpy as np\n",
    "# matriz2 = np.matrix([[0,5,2,4,0,2],[0,0,2,4,0,0],[-1,-1,0,2,-1,-1],[-2,-2,-1,0,-2,-2],[1,1,2,4,0,1],[2,2,3,4,2,0]])\n",
    "# matriz2 = np.matrix([[0,inf,7,4,0,8],[0,0,5,inf,5,0],[6,-1,0,2,inf,4],[inf,1,-1,0,1,-2],[3,5,2,4,0,inf],[3,4,inf,4,4,0]])\n",
    "# matriz2 = np.matrix([[ 0, inf, 7,  4,  0,  8,],\n",
    "#                      [ 7,  0,  1,  3, inf,  5],\n",
    "#                      [inf,  2,  0,  1,  2, -1],\n",
    "#                      [-1,  1, -2,  0, -4, inf],\n",
    "#                      [-1,  0, inf,  0,  0, -4],\n",
    "#                      [ 0,  0,  5, inf,  5,  0]])\n",
    "def create_index(n):\n",
    "    index = []\n",
    "    for i in range(n):\n",
    "        l = []\n",
    "        for j in range(n):\n",
    "            l.append(str(i)+str(j))\n",
    "        index.append(l)\n",
    "    return index\n",
    "\n",
    "\n",
    "def improve(matrix,index):\n",
    "    status = False\n",
    "    healthy_diag = True\n",
    "    h = -1\n",
    "    for i in range(len(matrix)):\n",
    "        for j in range(len(matrix)):\n",
    "                for k in range(len(matrix)):\n",
    "                    if healthy_diag:\n",
    "                        if i==j and matrix[i,j] < 0:\n",
    "                            healthy_diag = False\n",
    "                            h = i\n",
    "                        if matrix[i,j] > matrix[i,k]+matrix[k,j] and healthy_diag:\n",
    "                            status = True\n",
    "                            matrix[i,j] = matrix[i,k]+matrix[k,j]\n",
    "                            index[i][j] = index[i][k][:-1]+index[i][k][-1]+index[k][j][1:]\n",
    "    return matrix,index,status,(healthy_diag,h)\n",
    "\n",
    "\n",
    "# m = matriz2\n",
    "# index = create_index(6)\n",
    "# k = improve(matriz2,index)\n"
   ]
  },
  {
   "cell_type": "code",
   "execution_count": 135,
   "metadata": {},
   "outputs": [
    {
     "data": {
      "text/plain": [
       "['52', '13', '45', '01', '30', '24']"
      ]
     },
     "execution_count": 135,
     "metadata": {},
     "output_type": "execute_result"
    }
   ],
   "source": [
    "distance_matrix = np.matrix([[0,1,4,2,8,7],[6,0,5,2,1,9],[4,8,0,7,2,6],[5,5,5,0,4,8],[6,1,5,7,0,4],[3,9,1,2,6,0]])\n",
    "ciclos = ['01','14','42','20','35','53']\n",
    "index = create_index(6)\n",
    "matriz = s_matrix(ciclos_primeros,distance_matrix)\n",
    "s = True\n",
    "while s:\n",
    "    matriz,index, s, healthy_diag = improve(matriz,index)\n",
    "    if not healthy_diag[0]:\n",
    "        ciclos = update_ciclo(ciclos,index[healthy_diag[1]][healthy_diag[1]])\n",
    "        matriz = s_matrix(ciclos,distance_matrix)\n",
    "        index = create_index(6)\n",
    "\n",
    "ciclos"
   ]
  },
  {
   "cell_type": "code",
   "execution_count": 125,
   "metadata": {},
   "outputs": [
    {
     "data": {
      "text/plain": [
       "(False, 0)"
      ]
     },
     "execution_count": 125,
     "metadata": {},
     "output_type": "execute_result"
    }
   ],
   "source": [
    "# distance_matrix = np.matrix([[0,1,4,2,8,7],[6,0,5,2,1,9],[4,8,0,7,2,6],[5,5,5,0,4,8],[6,1,5,7,0,4],[3,9,1,2,6,0]])\n",
    "# ciclos = ['01','14','42','20','35','53']\n",
    "# index = create_index(6)\n",
    "# matriz = s_matrix(ciclos_primeros,distance_matrix)\n",
    "# a = improve(matriz,index)\n",
    "# b = improve(a[0],a[1])"
   ]
  }
 ],
 "metadata": {
  "kernelspec": {
   "display_name": "Python 3",
   "language": "python",
   "name": "python3"
  },
  "language_info": {
   "codemirror_mode": {
    "name": "ipython",
    "version": 3
   },
   "file_extension": ".py",
   "mimetype": "text/x-python",
   "name": "python",
   "nbconvert_exporter": "python",
   "pygments_lexer": "ipython3",
   "version": "3.8.3"
  }
 },
 "nbformat": 4,
 "nbformat_minor": 4
}
